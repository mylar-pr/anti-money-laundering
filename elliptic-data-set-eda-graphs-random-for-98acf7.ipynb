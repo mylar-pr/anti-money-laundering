{
 "cells": [
  {
   "cell_type": "markdown",
   "metadata": {
    "_cell_guid": "79c7e3d0-c299-4dcb-8224-4455121ee9b0",
    "_uuid": "d629ff2d2480ee46fbb7e2d37f6b5fab8052498a"
   },
   "source": [
    "# Anti Money Laundering (AML)\n",
    "\n",
    "Money laundering is the process used to disguise the source of money or assets derived from criminal activity. Money laundering involves approximately $\\$ 590$ billion to $\\$ 1.5$ trillion USD per year worldwide. In 2018, $\\$46.7$ billion was laundered through Canada with $\\$7.4$ billion accounted in British Columbia. Canadian real state is a prime target for money laundering. For banks, it is important to comply the legislation from FINTRAC and OSFI. \n",
    "\n",
    "In terms of the model, it is important to reduce the false positive alarms while having very low tolerance to false negatives. False negatives, are critical because they may be problematic for the bank in terms of legislation and affect the reputation of the bank. It is important to analyze the context of the transactions/users relationships to improve effectiveness of the alarms. \n",
    "\n",
    "\n",
    "\n",
    "# Data: Elliptic Data Set\n",
    "\n",
    "The [Elliptic Dataset](https://www.groundai.com/project/anti-money-laundering-in-bitcoin-experimenting-with-graph-convolutional-networks-for-financial-forensics/1) is a graph network of Bitcoin transactions with handcrafted features. All features are constructed using only publicly available information. \n",
    "\n",
    "The Elliptic DataSet maps Bitcoin transactions to real entities in two categories:\n",
    "* Licit: exchanges, wallet providers, miners, licit services, etc.\n",
    "* Ilicit: scams, malware, terrorist, organization, ransomware, Ponzi shcemes, etc\n",
    "\n",
    "A given transaction is licit if the entity that generated it was licit.\n",
    "\n",
    "- *Nodes and Edges* 203,769 node transactions and 234,355 directed edge payments flows. 2% are ilicit (Class 1), 21% are licit (Class 2)\n",
    "- *Features* Each node has associated 166 features. 94 represent local information (timestep, number of inputs/outputs, transaction fee, output volume and aggregated figures) and 72 features represent aggregated features (obtained by aggregating transaction information such as maximum, minimum, standard deviation, correlation coefficients of neighbor transactions).\n",
    "- *Temporal Information* A time step is associated with each node, representing an stimated of the time when the transaction is confirmed. There are 49 distinct timesteps evenly spaced with an interval of 2 weeks.\n",
    "\n",
    "## This notebook\n",
    "1. <a href='#eda'> Exploratory Data Analysis </a>\n",
    "2. <a href='#graphs'> Look into graphs for ilicit and licit transactions </a>\n",
    "3. <a href='#prediction'> Prediction of Ilicit transactions using a simple Random Forest Classifier  </a>\n",
    "\n",
    "## Some Resources\n",
    "[Kaggle](https://www.kaggle.com/ellipticco/elliptic-data-set) -\n",
    "[Medium](https://medium.com/elliptic/the-elliptic-data-set-opening-up-machine-learning-on-the-blockchain-e0a343d99a14)\n",
    "\n",
    "## Notebook Examples:\n",
    "[EDA](https://www.kaggle.com/artgor/elliptic-data-eda)\n",
    "\n",
    "[Ilicit transaction detection](https://www.kaggle.com/dhruvrnaik/illicit-transaction-detection)\n",
    "\n"
   ]
  },
  {
   "cell_type": "markdown",
   "metadata": {},
   "source": [
    "## Import packages"
   ]
  },
  {
   "cell_type": "code",
   "execution_count": 5,
   "metadata": {},
   "outputs": [],
   "source": [
    "import numpy as np\n",
    "import pandas as pd\n",
    "import matplotlib.pyplot as plt\n",
    "import seaborn as sns\n",
    "import networkx as nx\n",
    "import os"
   ]
  },
  {
   "cell_type": "markdown",
   "metadata": {},
   "source": [
    "## Load Data"
   ]
  },
  {
   "cell_type": "code",
   "execution_count": 4,
   "metadata": {},
   "outputs": [],
   "source": [
    "df_classes = pd.read_csv(\"data/elliptic_txs_classes.csv\")\n",
    "df_edges = pd.read_csv(\"data/elliptic_txs_edgelist.csv\")\n",
    "df_features = pd.read_csv(\"data/elliptic_txs_features.csv\", header=None)"
   ]
  },
  {
   "cell_type": "markdown",
   "metadata": {},
   "source": [
    "* Change column names"
   ]
  },
  {
   "cell_type": "code",
   "execution_count": 6,
   "metadata": {},
   "outputs": [],
   "source": [
    "colNames1 = {'0': 'txId', 1: \"Time step\"}\n",
    "colNames2 = {str(ii+2): \"Local_feature_\" + str(ii+1) for ii in range(93)}\n",
    "colNames3 = {str(ii+95): \"Aggregate_feature_\" + str(ii+1) for ii in range(72)}\n",
    "\n",
    "colNames = dict(colNames1, **colNames2, **colNames3 )\n",
    "colNames = {int(jj): item_kk for jj,item_kk in colNames.items()}"
   ]
  },
  {
   "cell_type": "code",
   "execution_count": 7,
   "metadata": {},
   "outputs": [
    {
     "data": {
      "text/html": [
       "<div>\n",
       "<style scoped>\n",
       "    .dataframe tbody tr th:only-of-type {\n",
       "        vertical-align: middle;\n",
       "    }\n",
       "\n",
       "    .dataframe tbody tr th {\n",
       "        vertical-align: top;\n",
       "    }\n",
       "\n",
       "    .dataframe thead th {\n",
       "        text-align: right;\n",
       "    }\n",
       "</style>\n",
       "<table border=\"1\" class=\"dataframe\">\n",
       "  <thead>\n",
       "    <tr style=\"text-align: right;\">\n",
       "      <th></th>\n",
       "      <th>txId</th>\n",
       "      <th>Time step</th>\n",
       "      <th>Local_feature_1</th>\n",
       "      <th>Local_feature_2</th>\n",
       "      <th>Local_feature_3</th>\n",
       "      <th>Local_feature_4</th>\n",
       "      <th>Local_feature_5</th>\n",
       "      <th>Local_feature_6</th>\n",
       "      <th>Local_feature_7</th>\n",
       "      <th>Local_feature_8</th>\n",
       "      <th>...</th>\n",
       "      <th>Aggregate_feature_63</th>\n",
       "      <th>Aggregate_feature_64</th>\n",
       "      <th>Aggregate_feature_65</th>\n",
       "      <th>Aggregate_feature_66</th>\n",
       "      <th>Aggregate_feature_67</th>\n",
       "      <th>Aggregate_feature_68</th>\n",
       "      <th>Aggregate_feature_69</th>\n",
       "      <th>Aggregate_feature_70</th>\n",
       "      <th>Aggregate_feature_71</th>\n",
       "      <th>Aggregate_feature_72</th>\n",
       "    </tr>\n",
       "  </thead>\n",
       "  <tbody>\n",
       "    <tr>\n",
       "      <th>0</th>\n",
       "      <td>230425980</td>\n",
       "      <td>1</td>\n",
       "      <td>-0.171469</td>\n",
       "      <td>-0.184668</td>\n",
       "      <td>-1.201369</td>\n",
       "      <td>-0.121970</td>\n",
       "      <td>-0.043875</td>\n",
       "      <td>-0.113002</td>\n",
       "      <td>-0.061584</td>\n",
       "      <td>-0.162097</td>\n",
       "      <td>...</td>\n",
       "      <td>-0.562153</td>\n",
       "      <td>-0.600999</td>\n",
       "      <td>1.461330</td>\n",
       "      <td>1.461369</td>\n",
       "      <td>0.018279</td>\n",
       "      <td>-0.087490</td>\n",
       "      <td>-0.131155</td>\n",
       "      <td>-0.097524</td>\n",
       "      <td>-0.120613</td>\n",
       "      <td>-0.119792</td>\n",
       "    </tr>\n",
       "    <tr>\n",
       "      <th>1</th>\n",
       "      <td>5530458</td>\n",
       "      <td>1</td>\n",
       "      <td>-0.171484</td>\n",
       "      <td>-0.184668</td>\n",
       "      <td>-1.201369</td>\n",
       "      <td>-0.121970</td>\n",
       "      <td>-0.043875</td>\n",
       "      <td>-0.113002</td>\n",
       "      <td>-0.061584</td>\n",
       "      <td>-0.162112</td>\n",
       "      <td>...</td>\n",
       "      <td>0.947382</td>\n",
       "      <td>0.673103</td>\n",
       "      <td>-0.979074</td>\n",
       "      <td>-0.978556</td>\n",
       "      <td>0.018279</td>\n",
       "      <td>-0.087490</td>\n",
       "      <td>-0.131155</td>\n",
       "      <td>-0.097524</td>\n",
       "      <td>-0.120613</td>\n",
       "      <td>-0.119792</td>\n",
       "    </tr>\n",
       "    <tr>\n",
       "      <th>2</th>\n",
       "      <td>232022460</td>\n",
       "      <td>1</td>\n",
       "      <td>-0.172107</td>\n",
       "      <td>-0.184668</td>\n",
       "      <td>-1.201369</td>\n",
       "      <td>-0.121970</td>\n",
       "      <td>-0.043875</td>\n",
       "      <td>-0.113002</td>\n",
       "      <td>-0.061584</td>\n",
       "      <td>-0.162749</td>\n",
       "      <td>...</td>\n",
       "      <td>0.670883</td>\n",
       "      <td>0.439728</td>\n",
       "      <td>-0.979074</td>\n",
       "      <td>-0.978556</td>\n",
       "      <td>-0.098889</td>\n",
       "      <td>-0.106715</td>\n",
       "      <td>-0.131155</td>\n",
       "      <td>-0.183671</td>\n",
       "      <td>-0.120613</td>\n",
       "      <td>-0.119792</td>\n",
       "    </tr>\n",
       "    <tr>\n",
       "      <th>3</th>\n",
       "      <td>232438397</td>\n",
       "      <td>1</td>\n",
       "      <td>0.163054</td>\n",
       "      <td>1.963790</td>\n",
       "      <td>-0.646376</td>\n",
       "      <td>12.409294</td>\n",
       "      <td>-0.063725</td>\n",
       "      <td>9.782742</td>\n",
       "      <td>12.414558</td>\n",
       "      <td>-0.163645</td>\n",
       "      <td>...</td>\n",
       "      <td>-0.577099</td>\n",
       "      <td>-0.613614</td>\n",
       "      <td>0.241128</td>\n",
       "      <td>0.241406</td>\n",
       "      <td>1.072793</td>\n",
       "      <td>0.085530</td>\n",
       "      <td>-0.131155</td>\n",
       "      <td>0.677799</td>\n",
       "      <td>-0.120613</td>\n",
       "      <td>-0.119792</td>\n",
       "    </tr>\n",
       "    <tr>\n",
       "      <th>4</th>\n",
       "      <td>230460314</td>\n",
       "      <td>1</td>\n",
       "      <td>1.011523</td>\n",
       "      <td>-0.081127</td>\n",
       "      <td>-1.201369</td>\n",
       "      <td>1.153668</td>\n",
       "      <td>0.333276</td>\n",
       "      <td>1.312656</td>\n",
       "      <td>-0.061584</td>\n",
       "      <td>-0.163523</td>\n",
       "      <td>...</td>\n",
       "      <td>-0.511871</td>\n",
       "      <td>-0.400422</td>\n",
       "      <td>0.517257</td>\n",
       "      <td>0.579382</td>\n",
       "      <td>0.018279</td>\n",
       "      <td>0.277775</td>\n",
       "      <td>0.326394</td>\n",
       "      <td>1.293750</td>\n",
       "      <td>0.178136</td>\n",
       "      <td>0.179117</td>\n",
       "    </tr>\n",
       "  </tbody>\n",
       "</table>\n",
       "<p>5 rows × 167 columns</p>\n",
       "</div>"
      ],
      "text/plain": [
       "        txId  Time step  Local_feature_1  Local_feature_2  Local_feature_3  \\\n",
       "0  230425980          1        -0.171469        -0.184668        -1.201369   \n",
       "1    5530458          1        -0.171484        -0.184668        -1.201369   \n",
       "2  232022460          1        -0.172107        -0.184668        -1.201369   \n",
       "3  232438397          1         0.163054         1.963790        -0.646376   \n",
       "4  230460314          1         1.011523        -0.081127        -1.201369   \n",
       "\n",
       "   Local_feature_4  Local_feature_5  Local_feature_6  Local_feature_7  \\\n",
       "0        -0.121970        -0.043875        -0.113002        -0.061584   \n",
       "1        -0.121970        -0.043875        -0.113002        -0.061584   \n",
       "2        -0.121970        -0.043875        -0.113002        -0.061584   \n",
       "3        12.409294        -0.063725         9.782742        12.414558   \n",
       "4         1.153668         0.333276         1.312656        -0.061584   \n",
       "\n",
       "   Local_feature_8  ...  Aggregate_feature_63  Aggregate_feature_64  \\\n",
       "0        -0.162097  ...             -0.562153             -0.600999   \n",
       "1        -0.162112  ...              0.947382              0.673103   \n",
       "2        -0.162749  ...              0.670883              0.439728   \n",
       "3        -0.163645  ...             -0.577099             -0.613614   \n",
       "4        -0.163523  ...             -0.511871             -0.400422   \n",
       "\n",
       "   Aggregate_feature_65  Aggregate_feature_66  Aggregate_feature_67  \\\n",
       "0              1.461330              1.461369              0.018279   \n",
       "1             -0.979074             -0.978556              0.018279   \n",
       "2             -0.979074             -0.978556             -0.098889   \n",
       "3              0.241128              0.241406              1.072793   \n",
       "4              0.517257              0.579382              0.018279   \n",
       "\n",
       "   Aggregate_feature_68  Aggregate_feature_69  Aggregate_feature_70  \\\n",
       "0             -0.087490             -0.131155             -0.097524   \n",
       "1             -0.087490             -0.131155             -0.097524   \n",
       "2             -0.106715             -0.131155             -0.183671   \n",
       "3              0.085530             -0.131155              0.677799   \n",
       "4              0.277775              0.326394              1.293750   \n",
       "\n",
       "   Aggregate_feature_71  Aggregate_feature_72  \n",
       "0             -0.120613             -0.119792  \n",
       "1             -0.120613             -0.119792  \n",
       "2             -0.120613             -0.119792  \n",
       "3             -0.120613             -0.119792  \n",
       "4              0.178136              0.179117  \n",
       "\n",
       "[5 rows x 167 columns]"
      ]
     },
     "execution_count": 7,
     "metadata": {},
     "output_type": "execute_result"
    }
   ],
   "source": [
    "df_features = df_features.rename(columns=colNames)\n",
    "df_features.head()"
   ]
  },
  {
   "cell_type": "markdown",
   "metadata": {},
   "source": [
    "* Change class 'unknown' to 3"
   ]
  },
  {
   "cell_type": "code",
   "execution_count": 8,
   "metadata": {},
   "outputs": [
    {
     "name": "stdout",
     "output_type": "stream",
     "text": [
      "Shape of classes (203769, 2)\n",
      "Shape of edges (234355, 2)\n",
      "Shape of features (203769, 167)\n"
     ]
    }
   ],
   "source": [
    "df_classes.loc[df_classes['class'] == 'unknown', 'class'] = 3\n",
    "print('Shape of classes', df_classes.shape)\n",
    "print('Shape of edges', df_edges.shape)\n",
    "print('Shape of features', df_features.shape)"
   ]
  },
  {
   "cell_type": "markdown",
   "metadata": {},
   "source": [
    "<a id='eda'></a>\n",
    "## Exploratory Data Analysis (EDA)"
   ]
  },
  {
   "cell_type": "markdown",
   "metadata": {},
   "source": [
    "* Quantity of transactions per class"
   ]
  },
  {
   "cell_type": "code",
   "execution_count": 9,
   "metadata": {},
   "outputs": [
    {
     "data": {
      "text/plain": [
       "<BarContainer object of 3 artists>"
      ]
     },
     "execution_count": 9,
     "metadata": {},
     "output_type": "execute_result"
    },
    {
     "data": {
      "image/png": "[encoded data removed]",
      "text/plain": [
       "<Figure size 432x288 with 1 Axes>"
      ]
     },
     "metadata": {
      "needs_background": "light"
     },
     "output_type": "display_data"
    }
   ],
   "source": [
    "group_class = df_classes.groupby('class').count()\n",
    "plt.barh(['Unknown', 'Ilicit', 'Licit'], group_class['txId'].values, color=['orange', 'r', 'g'] )"
   ]
  },
  {
   "cell_type": "markdown",
   "metadata": {},
   "source": [
    "* Number of transactions per Time step"
   ]
  },
  {
   "cell_type": "code",
   "execution_count": 10,
   "metadata": {},
   "outputs": [
    {
     "data": {
      "text/plain": [
       "Text(0.5, 1.0, 'Number of transactions by Time step')"
      ]
     },
     "execution_count": 10,
     "metadata": {},
     "output_type": "execute_result"
    },
    {
     "data": {
      "image/png": "[encoded data removed]",
      "text/plain": [
       "<Figure size 432x288 with 1 Axes>"
      ]
     },
     "metadata": {
      "needs_background": "light"
     },
     "output_type": "display_data"
    }
   ],
   "source": [
    "group_feature = df_features.groupby('Time step').count()\n",
    "group_feature['txId'].plot()\n",
    "plt.title('Number of transactions by Time step')"
   ]
  },
  {
   "cell_type": "markdown",
   "metadata": {},
   "source": [
    "* Number of transactions per class and timestep"
   ]
  },
  {
   "cell_type": "code",
   "execution_count": 11,
   "metadata": {},
   "outputs": [
    {
     "data": {
      "text/html": [
       "<div>\n",
       "<style scoped>\n",
       "    .dataframe tbody tr th:only-of-type {\n",
       "        vertical-align: middle;\n",
       "    }\n",
       "\n",
       "    .dataframe tbody tr th {\n",
       "        vertical-align: top;\n",
       "    }\n",
       "\n",
       "    .dataframe thead th {\n",
       "        text-align: right;\n",
       "    }\n",
       "</style>\n",
       "<table border=\"1\" class=\"dataframe\">\n",
       "  <thead>\n",
       "    <tr style=\"text-align: right;\">\n",
       "      <th></th>\n",
       "      <th>txId</th>\n",
       "      <th>class</th>\n",
       "      <th>Time step</th>\n",
       "      <th>Local_feature_1</th>\n",
       "      <th>Local_feature_2</th>\n",
       "      <th>Local_feature_3</th>\n",
       "      <th>Local_feature_4</th>\n",
       "      <th>Local_feature_5</th>\n",
       "      <th>Local_feature_6</th>\n",
       "      <th>Local_feature_7</th>\n",
       "      <th>...</th>\n",
       "      <th>Aggregate_feature_63</th>\n",
       "      <th>Aggregate_feature_64</th>\n",
       "      <th>Aggregate_feature_65</th>\n",
       "      <th>Aggregate_feature_66</th>\n",
       "      <th>Aggregate_feature_67</th>\n",
       "      <th>Aggregate_feature_68</th>\n",
       "      <th>Aggregate_feature_69</th>\n",
       "      <th>Aggregate_feature_70</th>\n",
       "      <th>Aggregate_feature_71</th>\n",
       "      <th>Aggregate_feature_72</th>\n",
       "    </tr>\n",
       "  </thead>\n",
       "  <tbody>\n",
       "    <tr>\n",
       "      <th>0</th>\n",
       "      <td>230425980</td>\n",
       "      <td>3</td>\n",
       "      <td>1</td>\n",
       "      <td>-0.171469</td>\n",
       "      <td>-0.184668</td>\n",
       "      <td>-1.201369</td>\n",
       "      <td>-0.121970</td>\n",
       "      <td>-0.043875</td>\n",
       "      <td>-0.113002</td>\n",
       "      <td>-0.061584</td>\n",
       "      <td>...</td>\n",
       "      <td>-0.562153</td>\n",
       "      <td>-0.600999</td>\n",
       "      <td>1.461330</td>\n",
       "      <td>1.461369</td>\n",
       "      <td>0.018279</td>\n",
       "      <td>-0.087490</td>\n",
       "      <td>-0.131155</td>\n",
       "      <td>-0.097524</td>\n",
       "      <td>-0.120613</td>\n",
       "      <td>-0.119792</td>\n",
       "    </tr>\n",
       "    <tr>\n",
       "      <th>1</th>\n",
       "      <td>5530458</td>\n",
       "      <td>3</td>\n",
       "      <td>1</td>\n",
       "      <td>-0.171484</td>\n",
       "      <td>-0.184668</td>\n",
       "      <td>-1.201369</td>\n",
       "      <td>-0.121970</td>\n",
       "      <td>-0.043875</td>\n",
       "      <td>-0.113002</td>\n",
       "      <td>-0.061584</td>\n",
       "      <td>...</td>\n",
       "      <td>0.947382</td>\n",
       "      <td>0.673103</td>\n",
       "      <td>-0.979074</td>\n",
       "      <td>-0.978556</td>\n",
       "      <td>0.018279</td>\n",
       "      <td>-0.087490</td>\n",
       "      <td>-0.131155</td>\n",
       "      <td>-0.097524</td>\n",
       "      <td>-0.120613</td>\n",
       "      <td>-0.119792</td>\n",
       "    </tr>\n",
       "    <tr>\n",
       "      <th>2</th>\n",
       "      <td>232022460</td>\n",
       "      <td>3</td>\n",
       "      <td>1</td>\n",
       "      <td>-0.172107</td>\n",
       "      <td>-0.184668</td>\n",
       "      <td>-1.201369</td>\n",
       "      <td>-0.121970</td>\n",
       "      <td>-0.043875</td>\n",
       "      <td>-0.113002</td>\n",
       "      <td>-0.061584</td>\n",
       "      <td>...</td>\n",
       "      <td>0.670883</td>\n",
       "      <td>0.439728</td>\n",
       "      <td>-0.979074</td>\n",
       "      <td>-0.978556</td>\n",
       "      <td>-0.098889</td>\n",
       "      <td>-0.106715</td>\n",
       "      <td>-0.131155</td>\n",
       "      <td>-0.183671</td>\n",
       "      <td>-0.120613</td>\n",
       "      <td>-0.119792</td>\n",
       "    </tr>\n",
       "    <tr>\n",
       "      <th>3</th>\n",
       "      <td>232438397</td>\n",
       "      <td>2</td>\n",
       "      <td>1</td>\n",
       "      <td>0.163054</td>\n",
       "      <td>1.963790</td>\n",
       "      <td>-0.646376</td>\n",
       "      <td>12.409294</td>\n",
       "      <td>-0.063725</td>\n",
       "      <td>9.782742</td>\n",
       "      <td>12.414558</td>\n",
       "      <td>...</td>\n",
       "      <td>-0.577099</td>\n",
       "      <td>-0.613614</td>\n",
       "      <td>0.241128</td>\n",
       "      <td>0.241406</td>\n",
       "      <td>1.072793</td>\n",
       "      <td>0.085530</td>\n",
       "      <td>-0.131155</td>\n",
       "      <td>0.677799</td>\n",
       "      <td>-0.120613</td>\n",
       "      <td>-0.119792</td>\n",
       "    </tr>\n",
       "    <tr>\n",
       "      <th>4</th>\n",
       "      <td>230460314</td>\n",
       "      <td>3</td>\n",
       "      <td>1</td>\n",
       "      <td>1.011523</td>\n",
       "      <td>-0.081127</td>\n",
       "      <td>-1.201369</td>\n",
       "      <td>1.153668</td>\n",
       "      <td>0.333276</td>\n",
       "      <td>1.312656</td>\n",
       "      <td>-0.061584</td>\n",
       "      <td>...</td>\n",
       "      <td>-0.511871</td>\n",
       "      <td>-0.400422</td>\n",
       "      <td>0.517257</td>\n",
       "      <td>0.579382</td>\n",
       "      <td>0.018279</td>\n",
       "      <td>0.277775</td>\n",
       "      <td>0.326394</td>\n",
       "      <td>1.293750</td>\n",
       "      <td>0.178136</td>\n",
       "      <td>0.179117</td>\n",
       "    </tr>\n",
       "  </tbody>\n",
       "</table>\n",
       "<p>5 rows × 168 columns</p>\n",
       "</div>"
      ],
      "text/plain": [
       "        txId class  Time step  Local_feature_1  Local_feature_2  \\\n",
       "0  230425980     3          1        -0.171469        -0.184668   \n",
       "1    5530458     3          1        -0.171484        -0.184668   \n",
       "2  232022460     3          1        -0.172107        -0.184668   \n",
       "3  232438397     2          1         0.163054         1.963790   \n",
       "4  230460314     3          1         1.011523        -0.081127   \n",
       "\n",
       "   Local_feature_3  Local_feature_4  Local_feature_5  Local_feature_6  \\\n",
       "0        -1.201369        -0.121970        -0.043875        -0.113002   \n",
       "1        -1.201369        -0.121970        -0.043875        -0.113002   \n",
       "2        -1.201369        -0.121970        -0.043875        -0.113002   \n",
       "3        -0.646376        12.409294        -0.063725         9.782742   \n",
       "4        -1.201369         1.153668         0.333276         1.312656   \n",
       "\n",
       "   Local_feature_7  ...  Aggregate_feature_63  Aggregate_feature_64  \\\n",
       "0        -0.061584  ...             -0.562153             -0.600999   \n",
       "1        -0.061584  ...              0.947382              0.673103   \n",
       "2        -0.061584  ...              0.670883              0.439728   \n",
       "3        12.414558  ...             -0.577099             -0.613614   \n",
       "4        -0.061584  ...             -0.511871             -0.400422   \n",
       "\n",
       "   Aggregate_feature_65  Aggregate_feature_66  Aggregate_feature_67  \\\n",
       "0              1.461330              1.461369              0.018279   \n",
       "1             -0.979074             -0.978556              0.018279   \n",
       "2             -0.979074             -0.978556             -0.098889   \n",
       "3              0.241128              0.241406              1.072793   \n",
       "4              0.517257              0.579382              0.018279   \n",
       "\n",
       "   Aggregate_feature_68  Aggregate_feature_69  Aggregate_feature_70  \\\n",
       "0             -0.087490             -0.131155             -0.097524   \n",
       "1             -0.087490             -0.131155             -0.097524   \n",
       "2             -0.106715             -0.131155             -0.183671   \n",
       "3              0.085530             -0.131155              0.677799   \n",
       "4              0.277775              0.326394              1.293750   \n",
       "\n",
       "   Aggregate_feature_71  Aggregate_feature_72  \n",
       "0             -0.120613             -0.119792  \n",
       "1             -0.120613             -0.119792  \n",
       "2             -0.120613             -0.119792  \n",
       "3             -0.120613             -0.119792  \n",
       "4              0.178136              0.179117  \n",
       "\n",
       "[5 rows x 168 columns]"
      ]
     },
     "execution_count": 11,
     "metadata": {},
     "output_type": "execute_result"
    }
   ],
   "source": [
    "# Merge Class and features\n",
    "df_class_feature = pd.merge(df_classes, df_features )\n",
    "df_class_feature.head()"
   ]
  },
  {
   "cell_type": "code",
   "execution_count": 12,
   "metadata": {},
   "outputs": [
    {
     "data": {
      "text/html": [
       "<div>\n",
       "<style scoped>\n",
       "    .dataframe tbody tr th:only-of-type {\n",
       "        vertical-align: middle;\n",
       "    }\n",
       "\n",
       "    .dataframe tbody tr th {\n",
       "        vertical-align: top;\n",
       "    }\n",
       "\n",
       "    .dataframe thead th {\n",
       "        text-align: right;\n",
       "    }\n",
       "</style>\n",
       "<table border=\"1\" class=\"dataframe\">\n",
       "  <thead>\n",
       "    <tr style=\"text-align: right;\">\n",
       "      <th></th>\n",
       "      <th>Time step</th>\n",
       "      <th>class</th>\n",
       "      <th>count</th>\n",
       "    </tr>\n",
       "  </thead>\n",
       "  <tbody>\n",
       "    <tr>\n",
       "      <th>0</th>\n",
       "      <td>1</td>\n",
       "      <td>3</td>\n",
       "      <td>5733</td>\n",
       "    </tr>\n",
       "    <tr>\n",
       "      <th>1</th>\n",
       "      <td>1</td>\n",
       "      <td>1</td>\n",
       "      <td>17</td>\n",
       "    </tr>\n",
       "    <tr>\n",
       "      <th>2</th>\n",
       "      <td>1</td>\n",
       "      <td>2</td>\n",
       "      <td>2130</td>\n",
       "    </tr>\n",
       "    <tr>\n",
       "      <th>3</th>\n",
       "      <td>2</td>\n",
       "      <td>3</td>\n",
       "      <td>3427</td>\n",
       "    </tr>\n",
       "    <tr>\n",
       "      <th>4</th>\n",
       "      <td>2</td>\n",
       "      <td>1</td>\n",
       "      <td>18</td>\n",
       "    </tr>\n",
       "  </tbody>\n",
       "</table>\n",
       "</div>"
      ],
      "text/plain": [
       "   Time step class  count\n",
       "0          1     3   5733\n",
       "1          1     1     17\n",
       "2          1     2   2130\n",
       "3          2     3   3427\n",
       "4          2     1     18"
      ]
     },
     "execution_count": 12,
     "metadata": {},
     "output_type": "execute_result"
    }
   ],
   "source": [
    "group_class_feature = df_class_feature.groupby(['Time step', 'class']).count()\n",
    "#plt.barh(['Unknown', 'Ilicit', 'Licit'], group_class['txId'].values, color=['orange', 'r', 'g'] )\n",
    "group_class_feature = group_class_feature['txId'].reset_index().rename(columns={'txId': 'count'})#unstack()\n",
    "group_class_feature.head()"
   ]
  },
  {
   "cell_type": "code",
   "execution_count": 13,
   "metadata": {},
   "outputs": [
    {
     "data": {
      "text/plain": [
       "<matplotlib.axes._subplots.AxesSubplot at 0x18bff1f8c48>"
      ]
     },
     "execution_count": 13,
     "metadata": {},
     "output_type": "execute_result"
    },
    {
     "data": {
      "image/png": "[encoded data removed]",
      "text/plain": [
       "<Figure size 432x288 with 1 Axes>"
      ]
     },
     "metadata": {
      "needs_background": "light"
     },
     "output_type": "display_data"
    }
   ],
   "source": [
    "sns.lineplot(x='Time step', y='count', hue='class', data = group_class_feature, palette=['g', 'orange', 'r'] )"
   ]
  },
  {
   "cell_type": "code",
   "execution_count": 14,
   "metadata": {},
   "outputs": [
    {
     "data": {
      "text/plain": [
       "Text(0.5, 0, 'Time step')"
      ]
     },
     "execution_count": 14,
     "metadata": {},
     "output_type": "execute_result"
    },
    {
     "data": {
      "image/png": "[encoded data removed]",
      "text/plain": [
       "<Figure size 432x288 with 1 Axes>"
      ]
     },
     "metadata": {
      "needs_background": "light"
     },
     "output_type": "display_data"
    }
   ],
   "source": [
    "class1 = group_class_feature[group_class_feature['class'] == '1']\n",
    "class2 = group_class_feature[group_class_feature['class'] == '2']\n",
    "class3 = group_class_feature[group_class_feature['class'] == 3 ]\n",
    "\n",
    "p1 = plt.bar(class3['Time step'], class3['count'], color = 'orange')\n",
    "\n",
    "p2 = plt.bar(class2['Time step'], class2['count'], color='g',\n",
    "             bottom=class3['count'])\n",
    "\n",
    "p3 = plt.bar(class1['Time step'], class1['count'], color='r',\n",
    "             bottom=np.array(class3['count'])+np.array(class2['count']))\n",
    "\n",
    "plt.xlabel('Time step')\n"
   ]
  },
  {
   "cell_type": "markdown",
   "metadata": {},
   "source": [
    "<a id='graphs'></a>\n",
    "# Graphs\n",
    "* Ilicit transactions at time step 20"
   ]
  },
  {
   "cell_type": "code",
   "execution_count": 15,
   "metadata": {},
   "outputs": [
    {
     "data": {
      "image/png": "[encoded data removed]",
      "text/plain": [
       "<Figure size 432x288 with 1 Axes>"
      ]
     },
     "metadata": {},
     "output_type": "display_data"
    }
   ],
   "source": [
    "ilicit_ids = df_class_feature.loc[(df_class_feature['Time step'] == 20) & (df_class_feature['class'] == '1'), 'txId']\n",
    "ilicit_edges = df_edges.loc[df_edges['txId1'].isin(ilicit_ids)]\n",
    "\n",
    "graph = nx.from_pandas_edgelist(ilicit_edges, source = 'txId1', target = 'txId2', \n",
    "                                 create_using = nx.DiGraph())\n",
    "pos = nx.spring_layout(graph)\n",
    "nx.draw(graph, with_labels=False, pos=pos)"
   ]
  },
  {
   "cell_type": "code",
   "execution_count": 16,
   "metadata": {},
   "outputs": [
    {
     "data": {
      "image/png": "[encoded data removed]",
      "text/plain": [
       "<Figure size 432x288 with 1 Axes>"
      ]
     },
     "metadata": {},
     "output_type": "display_data"
    }
   ],
   "source": [
    "licit_ids = df_class_feature.loc[(df_class_feature['Time step'] == 20) & (df_class_feature['class'] == '2'), 'txId']\n",
    "licit_edges = df_edges.loc[df_edges['txId1'].isin(licit_ids)]\n",
    "\n",
    "graph = nx.from_pandas_edgelist(licit_edges, source = 'txId1', target = 'txId2', \n",
    "                                 create_using = nx.DiGraph())\n",
    "pos = nx.spring_layout(graph)\n",
    "nx.draw(graph, with_labels=False, pos=pos)"
   ]
  },
  {
   "cell_type": "markdown",
   "metadata": {},
   "source": [
    "<a id='prediction'></a>\n",
    "# Prediction of ilicit transactions\n",
    "## Import packages"
   ]
  },
  {
   "cell_type": "code",
   "execution_count": 17,
   "metadata": {},
   "outputs": [],
   "source": [
    "from sklearn.model_selection import train_test_split\n",
    "from sklearn.ensemble import RandomForestClassifier\n",
    "from sklearn.metrics import precision_recall_fscore_support"
   ]
  },
  {
   "cell_type": "markdown",
   "metadata": {},
   "source": [
    "## Initial Data\n",
    "* First we pick the class 1 or 2 transactions only"
   ]
  },
  {
   "cell_type": "code",
   "execution_count": 18,
   "metadata": {},
   "outputs": [
    {
     "data": {
      "text/html": [
       "<div>\n",
       "<style scoped>\n",
       "    .dataframe tbody tr th:only-of-type {\n",
       "        vertical-align: middle;\n",
       "    }\n",
       "\n",
       "    .dataframe tbody tr th {\n",
       "        vertical-align: top;\n",
       "    }\n",
       "\n",
       "    .dataframe thead th {\n",
       "        text-align: right;\n",
       "    }\n",
       "</style>\n",
       "<table border=\"1\" class=\"dataframe\">\n",
       "  <thead>\n",
       "    <tr style=\"text-align: right;\">\n",
       "      <th></th>\n",
       "      <th>txId</th>\n",
       "      <th>class</th>\n",
       "      <th>Time step</th>\n",
       "      <th>Local_feature_1</th>\n",
       "      <th>Local_feature_2</th>\n",
       "      <th>Local_feature_3</th>\n",
       "      <th>Local_feature_4</th>\n",
       "      <th>Local_feature_5</th>\n",
       "      <th>Local_feature_6</th>\n",
       "      <th>Local_feature_7</th>\n",
       "      <th>...</th>\n",
       "      <th>Aggregate_feature_63</th>\n",
       "      <th>Aggregate_feature_64</th>\n",
       "      <th>Aggregate_feature_65</th>\n",
       "      <th>Aggregate_feature_66</th>\n",
       "      <th>Aggregate_feature_67</th>\n",
       "      <th>Aggregate_feature_68</th>\n",
       "      <th>Aggregate_feature_69</th>\n",
       "      <th>Aggregate_feature_70</th>\n",
       "      <th>Aggregate_feature_71</th>\n",
       "      <th>Aggregate_feature_72</th>\n",
       "    </tr>\n",
       "  </thead>\n",
       "  <tbody>\n",
       "    <tr>\n",
       "      <th>0</th>\n",
       "      <td>232438397</td>\n",
       "      <td>2</td>\n",
       "      <td>1</td>\n",
       "      <td>0.163054</td>\n",
       "      <td>1.963790</td>\n",
       "      <td>-0.646376</td>\n",
       "      <td>12.409294</td>\n",
       "      <td>-0.063725</td>\n",
       "      <td>9.782742</td>\n",
       "      <td>12.414558</td>\n",
       "      <td>...</td>\n",
       "      <td>-0.577099</td>\n",
       "      <td>-0.613614</td>\n",
       "      <td>0.241128</td>\n",
       "      <td>0.241406</td>\n",
       "      <td>1.072793</td>\n",
       "      <td>0.085530</td>\n",
       "      <td>-0.131155</td>\n",
       "      <td>0.677799</td>\n",
       "      <td>-0.120613</td>\n",
       "      <td>-0.119792</td>\n",
       "    </tr>\n",
       "    <tr>\n",
       "      <th>1</th>\n",
       "      <td>232029206</td>\n",
       "      <td>2</td>\n",
       "      <td>1</td>\n",
       "      <td>-0.005027</td>\n",
       "      <td>0.578941</td>\n",
       "      <td>-0.091383</td>\n",
       "      <td>4.380281</td>\n",
       "      <td>-0.063725</td>\n",
       "      <td>4.667146</td>\n",
       "      <td>0.851305</td>\n",
       "      <td>...</td>\n",
       "      <td>-0.577099</td>\n",
       "      <td>-0.613614</td>\n",
       "      <td>0.241128</td>\n",
       "      <td>0.241406</td>\n",
       "      <td>0.604120</td>\n",
       "      <td>0.008632</td>\n",
       "      <td>-0.131155</td>\n",
       "      <td>0.333211</td>\n",
       "      <td>-0.120613</td>\n",
       "      <td>-0.119792</td>\n",
       "    </tr>\n",
       "    <tr>\n",
       "      <th>2</th>\n",
       "      <td>232344069</td>\n",
       "      <td>2</td>\n",
       "      <td>1</td>\n",
       "      <td>-0.147852</td>\n",
       "      <td>-0.184668</td>\n",
       "      <td>-1.201369</td>\n",
       "      <td>-0.121970</td>\n",
       "      <td>-0.043875</td>\n",
       "      <td>-0.113002</td>\n",
       "      <td>-0.061584</td>\n",
       "      <td>...</td>\n",
       "      <td>-0.577099</td>\n",
       "      <td>-0.613614</td>\n",
       "      <td>0.241128</td>\n",
       "      <td>0.241406</td>\n",
       "      <td>0.018279</td>\n",
       "      <td>-0.087490</td>\n",
       "      <td>-0.131155</td>\n",
       "      <td>-0.097524</td>\n",
       "      <td>-0.120613</td>\n",
       "      <td>-0.119792</td>\n",
       "    </tr>\n",
       "    <tr>\n",
       "      <th>3</th>\n",
       "      <td>27553029</td>\n",
       "      <td>2</td>\n",
       "      <td>1</td>\n",
       "      <td>-0.151357</td>\n",
       "      <td>-0.184668</td>\n",
       "      <td>-1.201369</td>\n",
       "      <td>-0.121970</td>\n",
       "      <td>-0.043875</td>\n",
       "      <td>-0.113002</td>\n",
       "      <td>-0.061584</td>\n",
       "      <td>...</td>\n",
       "      <td>-0.539735</td>\n",
       "      <td>-0.582077</td>\n",
       "      <td>-0.979074</td>\n",
       "      <td>-0.978556</td>\n",
       "      <td>0.018279</td>\n",
       "      <td>-0.087490</td>\n",
       "      <td>-0.131155</td>\n",
       "      <td>-0.097524</td>\n",
       "      <td>-0.120613</td>\n",
       "      <td>-0.119792</td>\n",
       "    </tr>\n",
       "    <tr>\n",
       "      <th>4</th>\n",
       "      <td>3881097</td>\n",
       "      <td>2</td>\n",
       "      <td>1</td>\n",
       "      <td>-0.172306</td>\n",
       "      <td>-0.184668</td>\n",
       "      <td>-1.201369</td>\n",
       "      <td>0.028105</td>\n",
       "      <td>-0.043875</td>\n",
       "      <td>-0.029140</td>\n",
       "      <td>0.242712</td>\n",
       "      <td>...</td>\n",
       "      <td>-0.577099</td>\n",
       "      <td>-0.600999</td>\n",
       "      <td>0.241128</td>\n",
       "      <td>0.241406</td>\n",
       "      <td>0.018279</td>\n",
       "      <td>-0.068266</td>\n",
       "      <td>-0.084674</td>\n",
       "      <td>-0.054450</td>\n",
       "      <td>-1.760926</td>\n",
       "      <td>-1.760984</td>\n",
       "    </tr>\n",
       "  </tbody>\n",
       "</table>\n",
       "<p>5 rows × 168 columns</p>\n",
       "</div>"
      ],
      "text/plain": [
       "        txId class  Time step  Local_feature_1  Local_feature_2  \\\n",
       "0  232438397     2          1         0.163054         1.963790   \n",
       "1  232029206     2          1        -0.005027         0.578941   \n",
       "2  232344069     2          1        -0.147852        -0.184668   \n",
       "3   27553029     2          1        -0.151357        -0.184668   \n",
       "4    3881097     2          1        -0.172306        -0.184668   \n",
       "\n",
       "   Local_feature_3  Local_feature_4  Local_feature_5  Local_feature_6  \\\n",
       "0        -0.646376        12.409294        -0.063725         9.782742   \n",
       "1        -0.091383         4.380281        -0.063725         4.667146   \n",
       "2        -1.201369        -0.121970        -0.043875        -0.113002   \n",
       "3        -1.201369        -0.121970        -0.043875        -0.113002   \n",
       "4        -1.201369         0.028105        -0.043875        -0.029140   \n",
       "\n",
       "   Local_feature_7  ...  Aggregate_feature_63  Aggregate_feature_64  \\\n",
       "0        12.414558  ...             -0.577099             -0.613614   \n",
       "1         0.851305  ...             -0.577099             -0.613614   \n",
       "2        -0.061584  ...             -0.577099             -0.613614   \n",
       "3        -0.061584  ...             -0.539735             -0.582077   \n",
       "4         0.242712  ...             -0.577099             -0.600999   \n",
       "\n",
       "   Aggregate_feature_65  Aggregate_feature_66  Aggregate_feature_67  \\\n",
       "0              0.241128              0.241406              1.072793   \n",
       "1              0.241128              0.241406              0.604120   \n",
       "2              0.241128              0.241406              0.018279   \n",
       "3             -0.979074             -0.978556              0.018279   \n",
       "4              0.241128              0.241406              0.018279   \n",
       "\n",
       "   Aggregate_feature_68  Aggregate_feature_69  Aggregate_feature_70  \\\n",
       "0              0.085530             -0.131155              0.677799   \n",
       "1              0.008632             -0.131155              0.333211   \n",
       "2             -0.087490             -0.131155             -0.097524   \n",
       "3             -0.087490             -0.131155             -0.097524   \n",
       "4             -0.068266             -0.084674             -0.054450   \n",
       "\n",
       "   Aggregate_feature_71  Aggregate_feature_72  \n",
       "0             -0.120613             -0.119792  \n",
       "1             -0.120613             -0.119792  \n",
       "2             -0.120613             -0.119792  \n",
       "3             -0.120613             -0.119792  \n",
       "4             -1.760926             -1.760984  \n",
       "\n",
       "[5 rows x 168 columns]"
      ]
     },
     "execution_count": 18,
     "metadata": {},
     "output_type": "execute_result"
    }
   ],
   "source": [
    "selected_ids = df_class_feature.loc[(df_class_feature['class'] != 3), 'txId']\n",
    "df_edges_selected = df_edges.loc[df_edges['txId1'].isin(selected_ids)]\n",
    "df_classes_selected = df_classes.loc[df_classes['txId'].isin(selected_ids)]\n",
    "df_features_selected = df_features.loc[df_features['txId'].isin(selected_ids)]\n",
    "\n",
    "# Merge Class and features\n",
    "df_class_feature_selected = pd.merge(df_classes_selected, df_features_selected )\n",
    "df_class_feature_selected.head()"
   ]
  },
  {
   "cell_type": "code",
   "execution_count": 19,
   "metadata": {},
   "outputs": [],
   "source": [
    "X = df_class_feature_selected.drop(columns=['txId', 'class', 'Time step']) # drop class, text id and time step\n",
    "y = df_class_feature_selected[['class']]\n",
    "\n",
    "# in this case, class 2 corresponds to licit transactions, we chang this to 0 as our interest is the ilicit transactions\n",
    "y = y['class'].apply(lambda x: 0 if x == '2' else 1 )"
   ]
  },
  {
   "cell_type": "markdown",
   "metadata": {},
   "source": [
    "* Split train/test data"
   ]
  },
  {
   "cell_type": "code",
   "execution_count": 20,
   "metadata": {},
   "outputs": [],
   "source": [
    "X_train, X_test, y_train, y_test = train_test_split(X,y,test_size=0.25,random_state=15)"
   ]
  },
  {
   "cell_type": "markdown",
   "metadata": {},
   "source": [
    "## Random Forest Classifier"
   ]
  },
  {
   "cell_type": "code",
   "execution_count": 21,
   "metadata": {},
   "outputs": [
    {
     "name": "stdout",
     "output_type": "stream",
     "text": [
      "Random Forest Classifier\n",
      "Precision:0.997 \n",
      "Recall:0.888 \n",
      "F1 Score:0.939\n"
     ]
    }
   ],
   "source": [
    "model_RF = RandomForestClassifier().fit(X_train.values,y_train.values)\n",
    "y_preds = model_RF.predict(X_test.values)\n",
    "\n",
    "prec,rec,f1,num = precision_recall_fscore_support(y_test.values, y_preds)\n",
    "\n",
    "print(\"Random Forest Classifier\")\n",
    "print(\"Precision:%.3f \\nRecall:%.3f \\nF1 Score:%.3f\"%(prec[1],rec[1],f1[1]))"
   ]
  },
  {
   "cell_type": "markdown",
   "metadata": {},
   "source": [
    "## Predicting 'unknown' transactions\n",
    "* Selecting 'unknown' ids"
   ]
  },
  {
   "cell_type": "code",
   "execution_count": 22,
   "metadata": {},
   "outputs": [],
   "source": [
    "unknown_ids = df_class_feature.loc[(df_class_feature['class'] == 3), 'txId']\n",
    "\n",
    "df_edges_unknown = df_edges.loc[df_edges['txId1'].isin(unknown_ids)]\n",
    "df_classes_unknown = df_classes.loc[df_classes['txId'].isin(unknown_ids)]\n",
    "df_features_unknown = df_features.loc[df_features['txId'].isin(unknown_ids)]"
   ]
  },
  {
   "cell_type": "markdown",
   "metadata": {},
   "source": [
    "* Predicting Class"
   ]
  },
  {
   "cell_type": "code",
   "execution_count": 23,
   "metadata": {},
   "outputs": [],
   "source": [
    "X_unknown = df_features_unknown.drop(columns=['txId', 'Time step'])\n",
    "y_unknown_preds = model_RF.predict(X_unknown.values)"
   ]
  },
  {
   "cell_type": "markdown",
   "metadata": {},
   "source": [
    "* Replacing 'unknown' class with the predicted one"
   ]
  },
  {
   "cell_type": "code",
   "execution_count": 24,
   "metadata": {},
   "outputs": [],
   "source": [
    "df_classes_unknown = df_classes_unknown.copy()\n",
    "df_classes_unknown.loc[:, 'class'] = y_unknown_preds"
   ]
  },
  {
   "cell_type": "markdown",
   "metadata": {},
   "source": [
    "* Merge class and features"
   ]
  },
  {
   "cell_type": "code",
   "execution_count": 25,
   "metadata": {},
   "outputs": [
    {
     "data": {
      "text/html": [
       "<div>\n",
       "<style scoped>\n",
       "    .dataframe tbody tr th:only-of-type {\n",
       "        vertical-align: middle;\n",
       "    }\n",
       "\n",
       "    .dataframe tbody tr th {\n",
       "        vertical-align: top;\n",
       "    }\n",
       "\n",
       "    .dataframe thead th {\n",
       "        text-align: right;\n",
       "    }\n",
       "</style>\n",
       "<table border=\"1\" class=\"dataframe\">\n",
       "  <thead>\n",
       "    <tr style=\"text-align: right;\">\n",
       "      <th></th>\n",
       "      <th>txId</th>\n",
       "      <th>class</th>\n",
       "      <th>Time step</th>\n",
       "      <th>Local_feature_1</th>\n",
       "      <th>Local_feature_2</th>\n",
       "      <th>Local_feature_3</th>\n",
       "      <th>Local_feature_4</th>\n",
       "      <th>Local_feature_5</th>\n",
       "      <th>Local_feature_6</th>\n",
       "      <th>Local_feature_7</th>\n",
       "      <th>...</th>\n",
       "      <th>Aggregate_feature_63</th>\n",
       "      <th>Aggregate_feature_64</th>\n",
       "      <th>Aggregate_feature_65</th>\n",
       "      <th>Aggregate_feature_66</th>\n",
       "      <th>Aggregate_feature_67</th>\n",
       "      <th>Aggregate_feature_68</th>\n",
       "      <th>Aggregate_feature_69</th>\n",
       "      <th>Aggregate_feature_70</th>\n",
       "      <th>Aggregate_feature_71</th>\n",
       "      <th>Aggregate_feature_72</th>\n",
       "    </tr>\n",
       "  </thead>\n",
       "  <tbody>\n",
       "    <tr>\n",
       "      <th>0</th>\n",
       "      <td>230425980</td>\n",
       "      <td>0</td>\n",
       "      <td>1</td>\n",
       "      <td>-0.171469</td>\n",
       "      <td>-0.184668</td>\n",
       "      <td>-1.201369</td>\n",
       "      <td>-0.121970</td>\n",
       "      <td>-0.043875</td>\n",
       "      <td>-0.113002</td>\n",
       "      <td>-0.061584</td>\n",
       "      <td>...</td>\n",
       "      <td>-0.562153</td>\n",
       "      <td>-0.600999</td>\n",
       "      <td>1.461330</td>\n",
       "      <td>1.461369</td>\n",
       "      <td>0.018279</td>\n",
       "      <td>-0.087490</td>\n",
       "      <td>-0.131155</td>\n",
       "      <td>-0.097524</td>\n",
       "      <td>-0.120613</td>\n",
       "      <td>-0.119792</td>\n",
       "    </tr>\n",
       "    <tr>\n",
       "      <th>1</th>\n",
       "      <td>5530458</td>\n",
       "      <td>0</td>\n",
       "      <td>1</td>\n",
       "      <td>-0.171484</td>\n",
       "      <td>-0.184668</td>\n",
       "      <td>-1.201369</td>\n",
       "      <td>-0.121970</td>\n",
       "      <td>-0.043875</td>\n",
       "      <td>-0.113002</td>\n",
       "      <td>-0.061584</td>\n",
       "      <td>...</td>\n",
       "      <td>0.947382</td>\n",
       "      <td>0.673103</td>\n",
       "      <td>-0.979074</td>\n",
       "      <td>-0.978556</td>\n",
       "      <td>0.018279</td>\n",
       "      <td>-0.087490</td>\n",
       "      <td>-0.131155</td>\n",
       "      <td>-0.097524</td>\n",
       "      <td>-0.120613</td>\n",
       "      <td>-0.119792</td>\n",
       "    </tr>\n",
       "    <tr>\n",
       "      <th>2</th>\n",
       "      <td>232022460</td>\n",
       "      <td>0</td>\n",
       "      <td>1</td>\n",
       "      <td>-0.172107</td>\n",
       "      <td>-0.184668</td>\n",
       "      <td>-1.201369</td>\n",
       "      <td>-0.121970</td>\n",
       "      <td>-0.043875</td>\n",
       "      <td>-0.113002</td>\n",
       "      <td>-0.061584</td>\n",
       "      <td>...</td>\n",
       "      <td>0.670883</td>\n",
       "      <td>0.439728</td>\n",
       "      <td>-0.979074</td>\n",
       "      <td>-0.978556</td>\n",
       "      <td>-0.098889</td>\n",
       "      <td>-0.106715</td>\n",
       "      <td>-0.131155</td>\n",
       "      <td>-0.183671</td>\n",
       "      <td>-0.120613</td>\n",
       "      <td>-0.119792</td>\n",
       "    </tr>\n",
       "    <tr>\n",
       "      <th>3</th>\n",
       "      <td>230460314</td>\n",
       "      <td>0</td>\n",
       "      <td>1</td>\n",
       "      <td>1.011523</td>\n",
       "      <td>-0.081127</td>\n",
       "      <td>-1.201369</td>\n",
       "      <td>1.153668</td>\n",
       "      <td>0.333276</td>\n",
       "      <td>1.312656</td>\n",
       "      <td>-0.061584</td>\n",
       "      <td>...</td>\n",
       "      <td>-0.511871</td>\n",
       "      <td>-0.400422</td>\n",
       "      <td>0.517257</td>\n",
       "      <td>0.579382</td>\n",
       "      <td>0.018279</td>\n",
       "      <td>0.277775</td>\n",
       "      <td>0.326394</td>\n",
       "      <td>1.293750</td>\n",
       "      <td>0.178136</td>\n",
       "      <td>0.179117</td>\n",
       "    </tr>\n",
       "    <tr>\n",
       "      <th>4</th>\n",
       "      <td>230459870</td>\n",
       "      <td>0</td>\n",
       "      <td>1</td>\n",
       "      <td>0.961040</td>\n",
       "      <td>-0.081127</td>\n",
       "      <td>-1.201369</td>\n",
       "      <td>1.303743</td>\n",
       "      <td>0.333276</td>\n",
       "      <td>1.480381</td>\n",
       "      <td>-0.061584</td>\n",
       "      <td>...</td>\n",
       "      <td>-0.504702</td>\n",
       "      <td>-0.422589</td>\n",
       "      <td>-0.226790</td>\n",
       "      <td>-0.117629</td>\n",
       "      <td>0.018279</td>\n",
       "      <td>0.277775</td>\n",
       "      <td>0.413931</td>\n",
       "      <td>1.149556</td>\n",
       "      <td>-0.696053</td>\n",
       "      <td>-0.695540</td>\n",
       "    </tr>\n",
       "  </tbody>\n",
       "</table>\n",
       "<p>5 rows × 168 columns</p>\n",
       "</div>"
      ],
      "text/plain": [
       "        txId  class  Time step  Local_feature_1  Local_feature_2  \\\n",
       "0  230425980      0          1        -0.171469        -0.184668   \n",
       "1    5530458      0          1        -0.171484        -0.184668   \n",
       "2  232022460      0          1        -0.172107        -0.184668   \n",
       "3  230460314      0          1         1.011523        -0.081127   \n",
       "4  230459870      0          1         0.961040        -0.081127   \n",
       "\n",
       "   Local_feature_3  Local_feature_4  Local_feature_5  Local_feature_6  \\\n",
       "0        -1.201369        -0.121970        -0.043875        -0.113002   \n",
       "1        -1.201369        -0.121970        -0.043875        -0.113002   \n",
       "2        -1.201369        -0.121970        -0.043875        -0.113002   \n",
       "3        -1.201369         1.153668         0.333276         1.312656   \n",
       "4        -1.201369         1.303743         0.333276         1.480381   \n",
       "\n",
       "   Local_feature_7  ...  Aggregate_feature_63  Aggregate_feature_64  \\\n",
       "0        -0.061584  ...             -0.562153             -0.600999   \n",
       "1        -0.061584  ...              0.947382              0.673103   \n",
       "2        -0.061584  ...              0.670883              0.439728   \n",
       "3        -0.061584  ...             -0.511871             -0.400422   \n",
       "4        -0.061584  ...             -0.504702             -0.422589   \n",
       "\n",
       "   Aggregate_feature_65  Aggregate_feature_66  Aggregate_feature_67  \\\n",
       "0              1.461330              1.461369              0.018279   \n",
       "1             -0.979074             -0.978556              0.018279   \n",
       "2             -0.979074             -0.978556             -0.098889   \n",
       "3              0.517257              0.579382              0.018279   \n",
       "4             -0.226790             -0.117629              0.018279   \n",
       "\n",
       "   Aggregate_feature_68  Aggregate_feature_69  Aggregate_feature_70  \\\n",
       "0             -0.087490             -0.131155             -0.097524   \n",
       "1             -0.087490             -0.131155             -0.097524   \n",
       "2             -0.106715             -0.131155             -0.183671   \n",
       "3              0.277775              0.326394              1.293750   \n",
       "4              0.277775              0.413931              1.149556   \n",
       "\n",
       "   Aggregate_feature_71  Aggregate_feature_72  \n",
       "0             -0.120613             -0.119792  \n",
       "1             -0.120613             -0.119792  \n",
       "2             -0.120613             -0.119792  \n",
       "3              0.178136              0.179117  \n",
       "4             -0.696053             -0.695540  \n",
       "\n",
       "[5 rows x 168 columns]"
      ]
     },
     "execution_count": 25,
     "metadata": {},
     "output_type": "execute_result"
    }
   ],
   "source": [
    "df_class_feature_unknown = pd.merge(df_classes_unknown, df_features_unknown )\n",
    "df_class_feature_unknown.head()"
   ]
  },
  {
   "cell_type": "markdown",
   "metadata": {},
   "source": [
    "## Predicted Graph"
   ]
  },
  {
   "cell_type": "code",
   "execution_count": 26,
   "metadata": {},
   "outputs": [
    {
     "data": {
      "image/png": "[encoded data removed]",
      "text/plain": [
       "<Figure size 432x288 with 1 Axes>"
      ]
     },
     "metadata": {},
     "output_type": "display_data"
    }
   ],
   "source": [
    "ilicit_ids = df_class_feature_unknown.loc[(df_class_feature_unknown['Time step'] == 20) & (df_class_feature_unknown['class'] == 1), 'txId']\n",
    "ilicit_edges = df_edges_unknown.loc[df_edges_unknown['txId1'].isin(ilicit_ids)]\n",
    "\n",
    "graph = nx.from_pandas_edgelist(ilicit_edges, source = 'txId1', target = 'txId2', \n",
    "                                 create_using = nx.DiGraph())\n",
    "pos = nx.spring_layout(graph)\n",
    "nx.draw(graph, with_labels=False, pos=pos)"
   ]
  },
  {
   "cell_type": "code",
   "execution_count": null,
   "metadata": {},
   "outputs": [],
   "source": []
  }
 ],
 "metadata": {
  "kernelspec": {
   "display_name": "Python 3",
   "language": "python",
   "name": "python3"
  },
  "language_info": {
   "codemirror_mode": {
    "name": "ipython",
    "version": 3
   },
   "file_extension": ".py",
   "mimetype": "text/x-python",
   "name": "python",
   "nbconvert_exporter": "python",
   "pygments_lexer": "ipython3",
   "version": "3.7.6"
  }
 },
 "nbformat": 4,
 "nbformat_minor": 4
}
